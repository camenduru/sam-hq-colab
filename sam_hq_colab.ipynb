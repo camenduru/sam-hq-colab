{
  "cells": [
    {
      "cell_type": "markdown",
      "metadata": {
        "id": "view-in-github"
      },
      "source": [
        "[![Open In Colab](https://colab.research.google.com/assets/colab-badge.svg)](https://colab.research.google.com/github/camenduru/sam-hq-colab/blob/main/sam_hq_colab.ipynb)"
      ]
    },
    {
      "cell_type": "code",
      "execution_count": null,
      "metadata": {
        "id": "qO-QwgAvoZOW"
      },
      "outputs": [],
      "source": [
        "%cd /content\n",
        "!git clone -b dev https://github.com/camenduru/sam-hq-hf\n",
        "%cd /content/sam-hq-hf\n",
        "\n",
        "!pip install -e sam-hq\n",
        "!pip install -e GroundingDINO\n",
        "!pip install opencv-python pycocotools matplotlib onnxruntime onnx ipykernel gradio\n",
        "\n",
        "!wget https://huggingface.co/camenduru/sam-hq/resolve/main/groundingdino_swint_ogc.pth\n",
        "!wget https://huggingface.co/camenduru/sam-hq/resolve/main/sam_hq_vit_l.pth\n",
        "!wget https://raw.githubusercontent.com/SysCV/sam-hq/main/demo/input_imgs/example0.png\n",
        "!wget https://raw.githubusercontent.com/SysCV/sam-hq/main/demo/input_imgs/example1.png\n",
        "!wget https://raw.githubusercontent.com/SysCV/sam-hq/main/demo/input_imgs/example2.png\n",
        "!wget https://raw.githubusercontent.com/SysCV/sam-hq/main/demo/input_imgs/example3.png\n",
        "!wget https://raw.githubusercontent.com/SysCV/sam-hq/main/demo/input_imgs/example4.png\n",
        "!wget https://raw.githubusercontent.com/SysCV/sam-hq/main/demo/input_imgs/example5.png\n",
        "!wget https://raw.githubusercontent.com/SysCV/sam-hq/main/demo/input_imgs/example6.png\n",
        "!wget https://raw.githubusercontent.com/SysCV/sam-hq/main/demo/input_imgs/example7.png\n",
        "\n",
        "!python app.py --share"
      ]
    }
  ],
  "metadata": {
    "accelerator": "GPU",
    "colab": {
      "gpuType": "T4",
      "provenance": []
    },
    "kernelspec": {
      "display_name": "Python 3",
      "name": "python3"
    },
    "language_info": {
      "name": "python"
    }
  },
  "nbformat": 4,
  "nbformat_minor": 0
}
